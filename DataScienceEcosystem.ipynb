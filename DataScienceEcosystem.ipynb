{
 "cells": [
  {
   "cell_type": "markdown",
   "id": "62d5473d-fdda-426b-b9ec-5fc358ec598e",
   "metadata": {},
   "source": [
    "# Data Science Tools and Ecosystem"
   ]
  },
  {
   "cell_type": "markdown",
   "id": "4f3db87d-f03f-4a59-b31b-930f15c615ca",
   "metadata": {},
   "source": [
    "In this notebook, Data Science Tools and Ecosystem are summarized."
   ]
  },
  {
   "cell_type": "markdown",
   "id": "b1be389d-15f1-43c1-8d39-508044c880e1",
   "metadata": {},
   "source": [
    "**Objectives:**\r\n",
    "\r\n",
    "- List popular languages for Data Science\r\n",
    "- Identify common libraries used in Data Science\r\n",
    "- Present tools used in the Data Science ecosystem\r\n",
    "- Evaluate arithmetic expressions in Python\r\n",
    "- Convert minutes to hours"
   ]
  },
  {
   "cell_type": "markdown",
   "id": "9962a110-c51a-4cf2-b99c-0f911ab60165",
   "metadata": {},
   "source": [
    "## Author\n",
    "\n",
    "[Cristian]"
   ]
  },
  {
   "cell_type": "markdown",
   "id": "0b9681ce-ee31-40b1-9420-786f2c9d4699",
   "metadata": {},
   "source": [
    "Some of the popular languages that Data Scientists use are:"
   ]
  },
  {
   "cell_type": "markdown",
   "id": "a6f32902-e989-473d-b923-251cb060d137",
   "metadata": {},
   "source": [
    "1. Python\r\n",
    "2. R\r\n",
    "3. SQL\r\n",
    "4. Julia"
   ]
  },
  {
   "cell_type": "markdown",
   "id": "27b135c4-6208-4247-a4f9-0362623231cf",
   "metadata": {},
   "source": [
    "Some of the commonly used libraries used by Data Scientists include:\r\n",
    "\r\n",
    "1. Pandas\r\n",
    "2. NumPy\r\n",
    "3. Matplotlib\r\n",
    "4. Scikit-learn"
   ]
  },
  {
   "cell_type": "markdown",
   "id": "2f5de35d-2cb0-41dd-b64d-03a597a2406b",
   "metadata": {},
   "source": [
    "| Data Science Tools     |\r\n",
    "|------------------------|\r\n",
    "| Jupyter Notebook        |\r\n",
    "| RStudio                 |\r\n",
    "| Apache Zeppelin         |"
   ]
  },
  {
   "cell_type": "markdown",
   "id": "8337f806-0066-4272-be26-5d16b0199a43",
   "metadata": {},
   "source": [
    "### Below are a few examples of evaluating arithmetic expressions in Python\r\n",
    "\r\n",
    "- Addition: `5 + 3` results in `8`\r\n",
    "- Subtraction: `10 - 4` results in `6`\r\n",
    "- Multiplication: `7 * 6` results in `42`\r\n",
    "- Division: `20 / 4` results in `5.0`"
   ]
  },
  {
   "cell_type": "code",
   "execution_count": 16,
   "id": "282c3610-9f96-41bb-ae6b-d18dce7e6a59",
   "metadata": {},
   "outputs": [
    {
     "data": {
      "text/plain": [
       "17"
      ]
     },
     "execution_count": 16,
     "metadata": {},
     "output_type": "execute_result"
    }
   ],
   "source": [
    "# This is a simple arithmetic expression to multiply then add integers.\n",
    "result = (3 * 4) + 5\n",
    "result"
   ]
  },
  {
   "cell_type": "code",
   "execution_count": 18,
   "id": "d0c3e18c-bdd8-40c6-adb2-058b4dd84f6e",
   "metadata": {},
   "outputs": [
    {
     "data": {
      "text/plain": [
       "3.3333333333333335"
      ]
     },
     "execution_count": 18,
     "metadata": {},
     "output_type": "execute_result"
    }
   ],
   "source": [
    "# This will convert 200 minutes to hours by dividing by 60.\n",
    "minutes = 200\n",
    "hours = minutes / 60\n",
    "hours"
   ]
  }
 ],
 "metadata": {
  "kernelspec": {
   "display_name": "Python 3 (ipykernel)",
   "language": "python",
   "name": "python3"
  },
  "language_info": {
   "codemirror_mode": {
    "name": "ipython",
    "version": 3
   },
   "file_extension": ".py",
   "mimetype": "text/x-python",
   "name": "python",
   "nbconvert_exporter": "python",
   "pygments_lexer": "ipython3",
   "version": "3.12.4"
  }
 },
 "nbformat": 4,
 "nbformat_minor": 5
}
